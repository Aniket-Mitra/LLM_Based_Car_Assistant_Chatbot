{
  "nbformat": 4,
  "nbformat_minor": 0,
  "metadata": {
    "colab": {
      "provenance": []
    },
    "kernelspec": {
      "name": "python3",
      "display_name": "Python 3"
    },
    "language_info": {
      "name": "python"
    }
  },
  "cells": [
    {
      "cell_type": "markdown",
      "source": [
        "# Post Mandate 3"
      ],
      "metadata": {
        "id": "Z8RrXCQ5Jkp7"
      }
    },
    {
      "cell_type": "markdown",
      "source": [
        "Here we will replace the weather responses with current/live responses as discussed before."
      ],
      "metadata": {
        "id": "6J5DrJ7_Jo2i"
      }
    },
    {
      "cell_type": "code",
      "execution_count": null,
      "metadata": {
        "colab": {
          "base_uri": "https://localhost:8080/"
        },
        "id": "qmwiDW38tcNj",
        "outputId": "010d2a1f-77be-448c-81eb-e9d6617da48d"
      },
      "outputs": [
        {
          "output_type": "stream",
          "name": "stderr",
          "text": [
            "[nltk_data] Downloading package punkt to /root/nltk_data...\n",
            "[nltk_data]   Unzipping tokenizers/punkt.zip.\n",
            "[nltk_data] Downloading package stopwords to /root/nltk_data...\n",
            "[nltk_data]   Unzipping corpora/stopwords.zip.\n",
            "[nltk_data] Downloading package averaged_perceptron_tagger to\n",
            "[nltk_data]     /root/nltk_data...\n",
            "[nltk_data]   Unzipping taggers/averaged_perceptron_tagger.zip.\n"
          ]
        }
      ],
      "source": [
        "import nltk\n",
        "from nltk.corpus import stopwords\n",
        "nltk.download('punkt')\n",
        "nltk.download('stopwords')\n",
        "nltk.download('averaged_perceptron_tagger')\n",
        "stop_words = stopwords.words('english')\n",
        "from nltk.util import ngrams\n",
        "import random\n",
        "import spacy\n",
        "NER = spacy.load(\"en_core_web_sm\")"
      ]
    },
    {
      "cell_type": "markdown",
      "source": [
        "Saved the **generated-response data (response_record)** and **intent classification data(intent_record)** of previous notebook file for test data. Now will load them here."
      ],
      "metadata": {
        "id": "9xLUjaX7Jx8p"
      }
    },
    {
      "cell_type": "code",
      "source": [
        "import pickle\n",
        "\n",
        "# Read dictionary pkl file\n",
        "with open('intent_record.pkl', 'rb') as fp:\n",
        "    intent_record = pickle.load(fp)\n",
        "    #print(intent_record)"
      ],
      "metadata": {
        "id": "BIIUmhmLtoax"
      },
      "execution_count": null,
      "outputs": []
    },
    {
      "cell_type": "code",
      "source": [
        "with open('response_record.pkl', 'rb') as fp:\n",
        "    response_record = pickle.load(fp)\n",
        "    print('Response dictionary')\n",
        "    print(response_record)"
      ],
      "metadata": {
        "colab": {
          "base_uri": "https://localhost:8080/"
        },
        "id": "LvTw62Wy6JnL",
        "outputId": "d64fb8d6-7378-4032-9fe7-509e9d4ab11c"
      },
      "execution_count": null,
      "outputs": [
        {
          "output_type": "stream",
          "name": "stdout",
          "text": [
            "Response dictionary\n",
            "{'Thank you!': \"You're welcome!\", 'Set the appointment to be a lab appointment.': 'Okay, setting a lab meeting at 4 pm on the 12th with HR.', 'thank you': \"You're welcome!\", 'Send me its address and pick a route to avoid all heavy traffic please': 'There is a road block nearby but there is no contest on the route to get there', 'Thank you very much car!': \"You're welcome!\", 'Thanks.': \"You're welcome!\", 'Perfect, thank you!': \"You're welcome.\", 'set steering wheel boost gentle': 'Sure sir, I will help you with steering wheel', 'i have a dentist appointment on the 12th of this month': 'What date and time would you like me to set the reminder for?', 'steering wheel boost changed gentle': ' done!!', 'pull n% window': ' Okay it will be done!!', 'remind me i have a tennis match on the 12th': 'What time should I remind you about tennis?', 'Thank you for the information. ': \"You're welcome!\", 'I want coffee.': 'Cafe Venetia is located at 383 University Ave. ', 'Pick a quick route to get there and send the address on my map please!': 'I sent the info on your screen, drive carefully!', 'launch 360 degrees camera': 'Sure sir I am clicking photo via 360 camera', 'getting photos left camera': 'Sir can I slow down a little bit.', 'Thanks': 'No problem.', \"That's all!\": \"You're welcome!\", 'want adjust steering wheel boost gentle': 'Sure sir, I will help you with steering wheel', 'Can you tell me about Menlo Park?': 'The weather forecast predicts a low of 40F and a high of 50F in Menlo park on Tuesday.', 'shoot pictures via back camera': 'Sure sir I am clicking photo via rear camera', \"I'm desiring to eat at some Chinese restaurant: please pick the nearest one!\": 'The nearest Chinese restaurant is Jing Jing, which is 4 milesNBA away. ', 'tell me when my dinner reservations are scheduled for': 'Your dinner reservations have been scheduled for 2 pm.', 'Will it be cloudy in Manhattan today and tomorrow?': 'It will not be cloudy today in Manhattan.', 'Thanks car.': \"You're welcome!\", 'Super, thanks': \"You're welcome!\", 'Yes, I need the fastest route': 'There is a car collision nearby but I sent on your screen the fastest way to reach it.', 'Thank you for this route': \"You're welcome!\", \"OK, I think that's helpful for me to know.\": \"I'm sorry but I don't see the option to optometrist appointment at 5pm on the 12th.\", 'Seattle, please.': 'The weather forecast in Seattle is cloudy with a low of 30F and a high of 40F.', 'Thank you. ': \"You're welcome.  Have a great day.  \", 'set steering wheel boost normal': ' done!!', 'Great, thanks.': 'No problem.', 'What date and location is my conference and who is going to be attending?': 'Your conference is on the 10th at 3pm with the company.', \"what's the weather forecast for today and tomorrow\": 'What city are you in?', 'Schedule a dentist appointment on the 8th at 1 pm with my aunt.': 'Okay, scheduling a dentist conference on the 10th at 11 am with your aunt. ', 'Thanks for the help. ': \"You're welcome!\", \"remind me when my next doctor's appointment is\": 'Your next doctor appointment is on the 12th at 7 pm.', 'What time is my Doctor apartment and who is it with?': \"Your doctor's appointment is at 5 pm on Tuesday.\", 'Carson.': 'It will be cloudy in Carson on Tuesday, with a low of 40F and a high of 60F.', 'Thank you car assitant. ': \"You're welcome!\", 'what time is my meeting': 'Your meeting is at 5pm on the 1st with HR. ', 'close 50% wing door': 'Sure sir, I will close 50% door', 'How about any other tea?': 'No, there is a tea shop called Teavana that is 3 miles away, would you like the address?', 'quickest route home': 'Home is at 329 El Camino Real. ', 'Yes sounds good. Thanks. ': \"You're welcome!\", \"show me this week's forecast\": 'What city do you want the weather for?', 'what are the directions to the mall': 'The nearest mall is the Palo Alto Shopping Center. Would you like directions there?', \"Okay, perfect. Let's navigate there!\": 'Navigating to the closest hospital now.', 'Okay thanks': \"You're welcome!\", 'Is there a Philz here?': 'Philz is located at 329 Alger Dr.', 'Schedule a conference with the vice president on the 5th at 11am.': 'Okay, scheduling a conference on the 4th at 10 am.', 'Then pick the fastest route for me, please!': 'I sent the info on your screen, drive carefully!', 'I want to know if it will be humid in Manhattan today.': 'Today in Manhattan it will not be humid.', 'Please send me the address and pick the fastes route to go there, thanks!': 'There is no traffic on our way to Town and Country.', 'set full view camera': 'Sure sir I am clicking photo via camera on the left', 'Will it be hot in Brentwood?': 'It will not be hot this week in Brentwoods.', \"That's it, thank you car!\": \"You're welcome!\", 'The one with the quickest route. ': 'The address for the Palo Alto Shopping Center is 757 Ames Ave.', 'Schedule a dentist appointment with my aunt on the 4th at 6pm.': 'Your dentist appointment is on the 3rd at 6 pm.', 'Thank you car!': \"You're welcome!\", 'Thank you.': \"You're welcome.\", 'Is the traffic bad to get there?': 'The traffic to Palo Alto Cafe is heavy with heavy traffic on our way.', 'Find a pizza restaurant that is open near me.': 'Pizza Pizza is at 880 Ames Ct.', \"Thank you very much car, pick some route with no traffic please and let's go!\": 'I sent the info on your screen, drive carefully!', 'Yes please show me the route and avoid heavy traffic. ': 'I sent on your screen the route to reach the nearest shopping center.  ', 'take me to my friends house': 'Where would you like to go?', 'want take shot photos right camera': 'Sure sir I am clicking photo via camera on the right', 'Does Stanford Express Care have heavy traffic nearby?': 'Stanford Express Care is located at 383 Alger Dr.', 'durham': 'There is no snow in Durham today.', 'Set a reminder for an optometrist appointment at 9am on the 6th of this month - my brother will be there as well.': 'Okay, setting a reminder that your optometrists appointment is at 9 am on the 12th of next month with your brother.', 'Set a reminder for my dentist appointment tomorrow at 9 am, with Tom': 'Okay, setting a reminder to schedule a dentist appointment for your dentist appointment on the 12th at 9am with Tom.', 'pull up directions to 5672 barringer street': 'Setting directions to 4672 barringers street now. ', 'Could you tell me what day and time my meeting is on? ': 'Your meeting is at 10 am on the 12th of this month.', 'What day is my meeting? ': 'Your meeting is on Monday at 1 pm with the president.', 'Yes, give me the address please.': 'The address is 883 Alta Mesa Ave.', 'Okay, that helps, thank you': \"You're welcome!\", 'shoot left camera': 'Sure sir I am clicking photo via camera on the left', \"Please pick the best route for me and let's go there!\": 'I sent on your screen the quickest route on your map. ', 'where is the nearest hotel': 'The nearest hotel is the Hotel Venetia.', 'initiate panoramic camera': 'Sure sir I am clicking photo via panoramas camera on the right', \"give me this week's high temperature\": 'What city would you like to know the high temperature for?', 'Who is attending that lab appointment with me?': 'Your lab appointment is with Jon.', 'Oh great job. Thanks. ': \"You're welcome!\", 'is it going to be cloudy in the next 7 days': 'What city do you want the weather for?', 'I need gas!': 'There is no gas in the area.', 'take me to the nearest hospital': 'The nearest hospital is Stanford Childrens Health. Would you like me to set the GPS there?', 'Thanks!': \"You're welcome!\", 'Pick the quickest one and show me the quick route to reach, please': 'There is a road block nearby but I sent the quickest route on your screen', 'Car I need to reach my friends house in this local area: pick the route with the shortest distance too please': 'The closest house is at 792 Alger Dr.', 'set a reminder for 10': 'Okay, setting a reminder to go to 10 am on the 12th.', 'Thank you': \"You're welcome!\", 'what day is the meeting in the conference room': 'Your conference room is set for Thursday at 5pm.', 'I want to double check. When is my Yoga appointment with Martha?': 'Your yoga appointment is on the 12th at 1 pm.', 'show me the nearby hospital': 'There is a hospital nearby.', 'Ok send me the address and set the GPS. I have to get home. ': 'The address is 611 El Camino Real.', \"Ok well I don't feel well so get me there as quick as possible please. \": \"You are welcome, I'm here to assist you!\", 'bring steering mode boost gentle': 'Sure sir, I will help you with steering wheel', 'want quarter window open': 'Sure sir, I will open quarter window', 'Thank you, that is perfect. ': \"You're welcome.\", 'what is the forecast for the rest of the day': 'What city are you asking about?', 'Thank you kindly.': \"You're welcome. \", \"what's the temperature in the city\": 'What city do you want the temperature for?', 'What time is my doctor appointment and who is attending with me?': 'Your doctor appointment is at 3 pm on Monday with Jon.', 'take shot photos via left camera': 'Sure sir I am clicking photo via camera on the left', 'Yes, please give me directions via a quick route. ': 'The closest parking garage is 5 miles away at 5671 Alger Dr.  ', 'San mateo, will it be overcast?': 'It will not be over in San Mateo.', 'what is the current temperature': 'What city are you asking about?', 'Look for some pizza restaurant nearest to my position and send me the quickest route to reach, thanks!': 'Pizza Hut is located at 692 Ames Ave.', 'is there a chance of snow in this weeks weather forecast': 'What city do you want the weather for?', 'Okay thank you!': \"You're welcome!\", 'Yes, where is it?': 'The nearest grocery store is Trader Joes.', 'I need the forecast for San Francisco please. For today to be exact. ': 'It will be cloudy in San Francisco on Monday.', 'Is there a parking garage around here? ': 'There is a parking lot at 611 Ames Ave.', \"How's the traffic?\": 'The address is 692 University Ave. ', 'Where does my friend live?': \"The address for Martha's house is 883 Arastrad)]\", 'close 50% lamborghini door': 'Sure sir, I will close 50%', 'schedule a blood test': 'What time and date is your blood test?', 'What day is my lab appointment and who is coming with? ': 'Your lab appointment is on Tuesday at 1 pm.', 'No, thanks, I remember it, just avoid all heavy traffic and show me the route on screen': 'Okay, I sent the route to your house on your screen, drive carefully!', 'what is the weather like for tomorrow night': 'What city do you want the weather for?', 'Yes sounds great. ': 'Setting navigation to 773 Alger Dr now.  ', 'Okay, thanks.': \"You're welcome!\", 'Please give me the address and directions via a route with no traffic to the nearest pizza restaurant. ': 'Pizza Venetia is at 573 Arrowhead Way.  ', 'Okay thank you. ': \"You're welcome!\", 'Car I need a parking garage closest to my position: help me please!': 'There is a parking Garage 3 miles away at 5671 Ames Ave. ', 'Find the address to a hospital or clinic.': 'There is a hospital called Teavana.', 'photograph via left camera': 'Sure sir I am clicking photo via camera on the left', 'Info about meeting. ': 'What date and time is your meeting?', 'And what is the address?': 'The address is 792 Alta Mesa Ave.', \"Please pick the fastest route and let's go there!\": 'Setting navigation to the quickest route to the nearest gas station. ', \"I'd have prefer something with no traffic but we will make it work anyway.. Thank you car!\": \"You're welcome!\", 'Will there be any traffic?': \"There is no traffic on our way, we're just two miles away from it.\", 'Yes I need the fastest route please.': 'The quickest route is the route to the nearest grocery store.', 'how is the weather in the city this weekend': 'What city do you want the weather for?', 'remind me to go swimming on the 12th of this month': 'What date and time should I remind you to go to swimming?', 'what time do the lab results come in': 'You have two lab results scheduled. One on the 12th with Ana and one on the 20th with Jeff.', 'Please give me the address and directions to a coffee shop via the quickest route. ': 'Palo Alto Cafe is the closest coffee shop.', 'Which has the least amount of traffic at the moment.': 'The nearest shopping center is Stanford Shopping Center.', 'Car please bring me to my friends house, it should be near me': 'There is no traffic on our way, but there is a road block nearby.', \"Please pick a route to avoid all heavy traffic and let's go there\": 'The nearest shopping center is the 711 El Camino Real.', 'What is the agenda for the conference?': 'Your conference is on Tuesday at 1 pm.', 'Thanks for the information. ': \"You're welcome.  \", 'What is the address?': 'The address is 611 Amherst St.', \"Oh that's great, thank you very much. \": \"You're welcome.\", 'want get photos right camera': 'Sure sir I am clicking photo via camera on the right', 'record photos left camera': 'Sure sir I am clicking photo via camera on the left', 'Please send me its address on screen and pick the quickest route for me': 'It is at 792 University Ave.', 'I need groceries.': 'Pizza is the only pizza.', 'Thanks a bunch.': \"You're welcome!\", 'What is the date and time of dinner?': 'You have two dinner parties scheduled for 3pm and 1pm on Wednesday.', 'what is the weather going to be like today and tomorrow': 'What city do you want the weather for?', \"Yes, what's the address?\": 'The address is 5671 El Camino Real.', 'steering wheel boost set sport': ' done!!', 'Who is attending? ': 'The Stanford Stanford Childrens Health is at 1 pm on Thursday.', 'Where can I get groceries?': 'There is a Whole Foods 1 mile away.', 'Thanks car!': \"You're welcome!\", 'How is the traffic? I need the least amount of traffic.': 'The traffic is on our way to Palo Alto Garage, there is a road block nearby but I sent on your screen the fastest route on your map', 'want record photos via left camera': 'Sure sir I am clicking photo via camera on the left', 'add meeting in conference room 102 the calendar': 'Your meeting is scheduled for Wednesday at 10am.', 'shift steering wheel boost gentle inside car': 'Sure sir, I will help you with steering wheel', 'Set a reminder for yoga next month on the 13th at 6pm with my mom.': 'Okay, setting a reminder to yoga with your mother on the 12th at 5pm.', \"Please pick a route to avoid all heavy traffic and let's go there, thanks!\": 'I sent the route on your screen, drive carefully!', 'Redwood City please.': 'There is no rain in Redwood City today.', 'Is it gonna be any blizzard on Tuesday in Alhambra?': 'It will not be blizzard in Alameda on Tuesday.appers are predicting it will be dry on Tuesday', 'Okay, thank you!': \"You're welcome!\", 'I would like to know for San Mateo.': 'The weather forecast for San Francisco is cloudy and humid.', 'is it going to snow today': 'What city are you asking about?', 'I want to hear grand rapids highest temperature for today and tomorrow': \"What city would you like to hear the highest temperature today and Tomorrow's temperature for?\", 'Both. Thanks': \"You're welcome.\", 'when do i have dinner planned for': 'You have two dinner plans scheduled for tomorrow. One on the 4th at 4 pm with your aunt, and another on the 7th at 10 am with your mother.', \"Great, I'll go there. Thank you\": \"You're welcome. \", 'Thanks so much. ': \"You're welcome!\", 'Please schedule a reminder for my doctor appointment at 11am on August 3rd with Alex.': \"Okay, scheduling a reminder with Alex for your doctor's appointment at 10 am on August 2nd with your mother.\", 'Okay, thanks': \"You're welcome!\", 'Will it be windy in Cleveland Thursday?': 'It will not be windgy in Cleveland on Thursday.', 'Thanks. ': \"You're welcome.  Have a great day.  \", 'Yes.': 'You are welcome.', 'What is the address to the Comfort Inn?': 'The Comfort Inn is located at 792 Alta Mesa Ave.', 'what is the weather like in new york city': 'What city do you want the weather for?', 'Could you please pick a route with no traffic to reach there?': 'The nearest route is 6 miles away with moderate traffic. ', \"what's today's and tomorrow's forecast\": 'What city would you like to know the forecast for?', 'What date is tennis activity and who is attending?': 'You have two tennis activity scheduled for the 11th at 3 pm.', 'thank you.': \"You're welcome.\", 'would like drive sports mode': 'I have two options for you: 1, you drive sport mode, and 2, you pick the fastest route to reach there?', 'can you give me the weather this week for new york city': 'There is a blizzard in New York City on Tuesday.', 'That works, thanks. ': \"You're welcome!\", \"Can you tell if it's raining?\": 'It will not rain in Boston on Tuesday.', 'That is all, thanks.': 'No problem.', 'That is all, thanks. ': \"You're welcome.\", 'Yes, please, show me a quick route to go there, thank you!': 'The route to Stanford is 7 miles away with moderate traffic.', 'OK, that will be fine. Please give me the address and directions via the fastest route. ': 'Setting GPS to 792 Alger Dr now.  Have a great day.  ', 'It sounds great! Please show me on the screen a quick route to get there, thanks!': 'Setting navigation to 611 Amherst St.', 'Find me the quickest route to the grocery store. ': 'The nearest grocery store is Whole Foods.  Would you like me to set the GPS there?', 'No.': 'Okay, setting navigation to the nearest Starbucks now. ', \"I'm looking for a place where i can have some coffee.\": 'There is a Cafe Venetia at 792 Arastradero Ave. ', 'must set steering wheel boost sport': 'Sure sir, I will help you with steering wheel', 'open 50% left door': 'Sure sir, I will open 50% right door', 'what is the weather for today': 'What city are you interested in?', \"What is my friend's address?\": \"Your friend's house is at 783 Ames Ct.\", \"That's all. Thanks \": \"You're welcome. \", 'take shot photos left camera': 'Sir can I slow down a little bit.', 'Could you please show me the fastest route to go there?': 'The quickest route is to the grocery store. ', 'Set a reminder for taking my medicine at 4 pm on the 8th with Ana.': 'Okay, setting a reminder to take your medicine at 3 pm on Wednesday with Ana', 'Downtown Chicago': 'There is a road block nearby. Would you like to know if it will be foggy in downtown Chicago?', 'Great!': \"You're welcome!\", 'changing steering wheel boost sport': ' done!!', 'Car I need to get at my friends house near my current location, please send me their address on the screen': 'The address is 819 Ames Ave.', \"what's the weather like today and tomorrow\": 'What city do you want the weather for?', \"It sounds good, let's go there, please pick the fastest route for me, thank you!\": 'I sent the route on your screen, drive carefully!', 'Where can I buy groceries?': 'The grocery store is located at 880 Ames Ct.', 'Is there a grocery store close?': 'There is a Trader Joes 4 miles away.', 'shoot photos rear camera': 'Sure sir I am clicking photo via rear camera.', 'Will it be any blizzard on Sunday in Alhambra?': 'It will not be blizzard in Alameda on Sunday.', 'Find me a gas station and the quickest way there': \"I'm sorry but there is no gas available.\", 'Yes, please! Which one is its address? There is any quick route available?': 'The address is 628 Ames Ave.', 'Could you confirm the address please?': 'The address is 842 Ames Ct.', 'Ok, can you navigate us there?': 'The address is 773 Alger Dr.', 'Please give me the information for Thursday.': 'The Thursday meeting is at 1 pm.', 'Please pick the shortest distance to get there, thank you!': 'I sent the route on your screen, drive carefully!', \"I'm in Boston but i will only be needing info on the next two days.\": 'You have a meeting scheduled for Monday at 1 pm with your boss. ', \"Car I'm desiring to have pizza!\": 'Pizza Pizza is located at 792 Ames Ct.', \"That sounds awesome. Let's go there. \": 'I sent on your screen the route to reach there, drive carefully!', 'set reminder for yoga class on the 12th of this month': 'What time and date should I set reminder for your yoga class?', 'Okay so is there any traffic and where is Webster Garage?': 'There is a road block nearby but there is a car collision nearby.', 'tell me the weather for this week': 'What city do you want the weather forecast for?', 'Thanks buddy.': 'Anytime.', 'Yes, thank you': \"You're welcome!\", 'direct steering wheel boost soft': ' done!!', 'Will it be misty in Alameda next week?': 'It will not be mist in Alastair next week.', 'take pictures via left camera': 'Sir can I slow down a little bit.', 'What time is the tennis activity and who is attending?': 'You have two tennis activities scheduled. One on the 11th with Martha and one on the 20th with Alex. ', 'Get me the address of a coffee or tea place around me that has no traffic': 'The closest coffee and tea place is Starbucks.', 'take photos right camera': 'Sir can I slow down a little bit.', 'make an appointment with the dentist': 'What date and time should I schedule an appointment?', 'Thanks for the info.': \"You're welcome.\", 'select sport setting steering wheel boost': ' done!!', 'What will be the lowest temperature in grand rapids over the next seven days?': 'The highest temperature in Grand Rapids is going to be between 50F and 60F on Monday.', 'What is the weather report for Saturday in Manhattan?': 'It will be cloudy and windy on Saturday in New York.', 'make steering wheel boost set standard mode': 'Sure sir, I will help you with steering wheel', \"what's the weather forecast for tomorrow\": 'What city do you want the weather for?', \"What is the address of  my friend's house?\": 'The address is 873 El Camino Real.', 'I want pizza.': 'Pizza Hut is located at 792 Arastradero Rd. ', 'Perfect. ': \"You're welcome!\", \"where's the closest place to park\": 'The nearest place is Stanford Oval Parking.', 'In Manhattan, will it be cloudy in the next 48 hours?': 'It will be cloudy on Sunday in Manhattan.', 'what is the weather going to be today and tomorrow': 'What city are you asking about?', 'Wow, thank you. ': \"You're welcome!\", 'begin establish bluetooth connection': 'Sure sir, I will establish blu bluetooth now.', 'find me parking garages': 'There is a parking garage 1 mile away but there is heavy traffic on our way.', 'Does it have the least amount of traffic?': 'It will be done!!', 'bring me to the nearest grocery store': 'The nearest grocery stores are Trader Joes and Whole Foods.', 'Is there an alternate mall with no traffic on the route?': 'The nearest mall is The Westin.', 'Thank you, car.': \"You're welcome!\", 'Okay, thank you.': \"You're welcome.\", 'rear camera shoot': 'Sure sir I am clicking photo via rear camera', \"That's it, thank you very much car!\": \"You're welcome!\", 'Okay perfect. ': \"You're welcome.  Have a great day.  \", 'Yes please.': 'I have a location for a pizza place called Pizza Hut.', 'Okay perfect, thank you!': \"You're welcome!\", 'what is the date and time of my next meeting': 'Your next meeting is on the 10th at 2 pm with your boss.', 'when is my next appointment': 'Your next appointment is on the 13th at 5pm with your mother.', \"what's the weekly forecast for cleveland\": 'What city do you want the weekly weather forecast for?', 'Set the navigation please. ': 'Setting navigation to 792 Bedoin Street now.  ', 'Give me the address of a rest stop nearby.': 'The nearest rest stop is the one at 528 Ames Ct.', 'Locate any hospitals in the area.': 'There is a hospital nearby.', 'give me directions to the nearest shopping center': 'The nearest shopping mall is Town and Country.', \"set a reminder for my daughter's swimming lessons\": 'What time is your swimming lesson?', 'tend adjust steering wheel boost sport': 'Sure sir, I will help you with steering wheel', 'Awesome, thanks': \"You're welcome.\", 'I would like to know about Chicago please. ': 'The weather in Chicago is gonna be cloudy on Sunday, raining on Monday, raining, snow on Tuesday, frost on Wednesday, and snow on Thursday', 'what is the weather like today in tomorrow': 'What city do you want the weather for?', 'find directions to the nearest starbucks': 'The nearest Starbucks is 5 miles away at 5671 Van Ness Ave.', 'Okay, thank you': \"You're welcome.\", 'Manhattan please': 'It will not be warm in Manhattan this week.', 'remind me about that meeting later': 'What time is your meeting?', \"Oh no ok set the GPS and let's get started. \": 'Setting GPS to 792 Alta Mesa Ave.', 'I guess it will have to do, set the GPS please.': 'GPS set. ', 'turn steering wheel boost normal': ' done!!', 'Set a reminder that I have a lab appointment with Tom at 4pm on the 5th of this month': 'Okay, setting a reminder for lab appointment at 4 pm on the 6th of the month with Tom.', 'Will it be hot in exeter or the next few days?': 'It will not be hot today in Exeter.', 'What tennis activities are on my schedule, what are the dates, and who are they with?': 'You have two tennis activities scheduled for the 2nd at 7 pm with Martha. Which one would you like to know the date?', 'is it going to rain at all this upcoming week': 'What city would you like to know if it will rain this week?', 'Please set GPS for route with no traffic.': 'Setting GPS for the quickest route to Pizza Chicago.'}\n"
          ]
        }
      ]
    },
    {
      "cell_type": "code",
      "source": [
        "test_response=[]\n",
        "with open(r'test_response.txt', 'r') as fp:\n",
        "    for line in fp:\n",
        "        # remove linebreak from a current name\n",
        "        # linebreak is the last character of each line\n",
        "        x = line[:-1]\n",
        "\n",
        "        # add current item to the list\n",
        "        test_response.append(x)"
      ],
      "metadata": {
        "id": "kTS3gj-UcCeZ"
      },
      "execution_count": null,
      "outputs": []
    },
    {
      "cell_type": "code",
      "source": [
        "test_query=[]\n",
        "with open(r'test_query.txt', 'r') as fp:\n",
        "    for line in fp:\n",
        "        # remove linebreak from a current name\n",
        "        # linebreak is the last character of each line\n",
        "        x = line[:-1]\n",
        "\n",
        "        # add current item to the list\n",
        "        test_query.append(x)"
      ],
      "metadata": {
        "id": "Bb7QeEeRc1qX"
      },
      "execution_count": null,
      "outputs": []
    },
    {
      "cell_type": "code",
      "source": [
        "len(intent_record)==len(response_record)"
      ],
      "metadata": {
        "colab": {
          "base_uri": "https://localhost:8080/"
        },
        "id": "6P13Po_C7-km",
        "outputId": "0c3eb695-68a5-4fd5-82b0-0f7bec4b9777"
      },
      "execution_count": null,
      "outputs": [
        {
          "output_type": "execute_result",
          "data": {
            "text/plain": [
              "False"
            ]
          },
          "metadata": {},
          "execution_count": 11
        }
      ]
    },
    {
      "cell_type": "markdown",
      "source": [
        "We will use **openweatherapi** to fetch live weather data.\n",
        "\n",
        "What will happen is:\n",
        "\n",
        "For those **queries** whose intent is classified as weather by our **intent-classifier model**, from them the name of the **place/location** whose weather using **Spacy NER module** is being asked is retrieved using **openweatherapi** and then the original response for that query in **response_record** is replaced by the weather data fetched."
      ],
      "metadata": {
        "id": "sYXuQ4GrKEF_"
      }
    },
    {
      "cell_type": "code",
      "source": [
        "import requests\n",
        "def weather_data(name_place):\n",
        "  api_key = \"90b5d2680321bccfd47c70fdcd4c8703\"  # Enter the API key you got from the OpenWeatherMap website\n",
        "  base_url = \"http://api.openweathermap.org/data/2.5/weather?\"\n",
        "\n",
        "#city_name = input(\"Enter city name : \")\n",
        "  complete_url = base_url + \"appid=\" + 'd850f7f52bf19300a9eb4b0aa6b80f0d' + \"&q=\" + name_place  # This is to complete the base_url, you can also do this manually to checkout other weather data available\n",
        "  response = requests.get(complete_url)\n",
        "#print(response)\n",
        "  x = response.json()\n",
        "\n",
        "  types={}\n",
        "  name1='overall weather status at '+name_place+' is'\n",
        "  types[name1]=x['weather'][0]['description']\n",
        "  name2='and current temperature in C is '\n",
        "  types[name2]=round(x['main']['temp']-273.15,2)\n",
        "  return types\n",
        "\n",
        "\n",
        "def remove_puncs(test_str): # this function removes the punctuations\n",
        "    import re\n",
        "    test_str=test_str.lower()\n",
        "    res = re.sub(r'[^\\w\\s]', '', test_str)\n",
        "    return res\n",
        "\n",
        "for text in intent_record:\n",
        "  #some thank you statements are categorized as weather, they shouldn't be, so ignoring such queries/statements\n",
        "  if intent_record[text]=='weather' and 'thank' not in remove_puncs(text) and len(remove_puncs(text))>3:\n",
        "      text1=NER(text)\n",
        "      print(text1)\n",
        "      for word in text1.ents:\n",
        "          if word.label_=='GPE':\n",
        "              #print('word')\n",
        "              vals1=weather_data(word.text)\n",
        "              #print(vals1)\n",
        "              response_record[text]=vals1\n",
        "\n"
      ],
      "metadata": {
        "id": "ICCJWl7VDhVr",
        "colab": {
          "base_uri": "https://localhost:8080/"
        },
        "outputId": "c4ab6ccd-0b21-4dc1-ab1c-3a8901d5cb36"
      },
      "execution_count": null,
      "outputs": [
        {
          "output_type": "stream",
          "name": "stdout",
          "text": [
            "Can you tell me about Menlo Park?\n",
            "Will it be cloudy in Manhattan today and tomorrow?\n",
            "Seattle, please.\n",
            "what's the weather forecast for today and tomorrow\n",
            "Carson.\n",
            "show me this week's forecast\n",
            "I want to know if it will be humid in Manhattan today.\n",
            "Will it be hot in Brentwood?\n",
            "durham\n",
            "give me this week's high temperature\n",
            "is it going to be cloudy in the next 7 days\n",
            "what is the forecast for the rest of the day\n",
            "what's the temperature in the city\n",
            "San mateo, will it be overcast?\n",
            "what is the current temperature\n",
            "is there a chance of snow in this weeks weather forecast\n",
            "I need the forecast for San Francisco please. For today to be exact. \n",
            "what is the weather like for tomorrow night\n",
            "how is the weather in the city this weekend\n",
            "what is the weather going to be like today and tomorrow\n",
            "Redwood City please.\n",
            "Is it gonna be any blizzard on Tuesday in Alhambra?\n",
            "I would like to know for San Mateo.\n",
            "is it going to snow today\n",
            "I want to hear grand rapids highest temperature for today and tomorrow\n",
            "Will it be windy in Cleveland Thursday?\n",
            "what is the weather like in new york city\n",
            "what's today's and tomorrow's forecast\n",
            "can you give me the weather this week for new york city\n",
            "what is the weather for today\n",
            "Downtown Chicago\n",
            "what's the weather like today and tomorrow\n",
            "Will it be any blizzard on Sunday in Alhambra?\n",
            "I'm in Boston but i will only be needing info on the next two days.\n",
            "tell me the weather for this week\n",
            "Will it be misty in Alameda next week?\n",
            "What will be the lowest temperature in grand rapids over the next seven days?\n",
            "What is the weather report for Saturday in Manhattan?\n",
            "what's the weather forecast for tomorrow\n",
            "In Manhattan, will it be cloudy in the next 48 hours?\n",
            "what is the weather going to be today and tomorrow\n",
            "what's the weekly forecast for cleveland\n",
            "I would like to know about Chicago please. \n",
            "what is the weather like today in tomorrow\n",
            "Manhattan please\n",
            "Will it be hot in exeter or the next few days?\n",
            "is it going to rain at all this upcoming week\n"
          ]
        }
      ]
    },
    {
      "cell_type": "code",
      "source": [
        "response_record['can you give me the weather this week for new york city']"
      ],
      "metadata": {
        "colab": {
          "base_uri": "https://localhost:8080/"
        },
        "id": "GRugC82NIvPG",
        "outputId": "11ee66d8-8ba3-4e35-98f6-4a24d7572e01"
      },
      "execution_count": null,
      "outputs": [
        {
          "output_type": "execute_result",
          "data": {
            "text/plain": [
              "{'overall weather status at new york city is': 'few clouds',\n",
              " 'and current temperature in C is ': 9.25}"
            ]
          },
          "metadata": {},
          "execution_count": 11
        }
      ]
    },
    {
      "cell_type": "markdown",
      "source": [
        "As we can see in above example, one of the response is replaced by the live location weather (in this case weather of new york city)."
      ],
      "metadata": {
        "id": "eiePw08rLQar"
      }
    },
    {
      "cell_type": "code",
      "source": [
        "# some more query's response checking\n",
        "\n",
        "print(response_record['Will it be any blizzard on Sunday in Alhambra?'])\n",
        "print('\\n')\n",
        "print(response_record['tell me the weather for this week'])\n",
        "print('\\n')\n",
        "print(response_record['is it going to rain at all this upcoming week'])\n",
        "print('\\n')"
      ],
      "metadata": {
        "colab": {
          "base_uri": "https://localhost:8080/"
        },
        "id": "_4XjZsCcN_Ka",
        "outputId": "739b453c-1201-4cd8-86cf-3076fdc76960"
      },
      "execution_count": null,
      "outputs": [
        {
          "output_type": "stream",
          "name": "stdout",
          "text": [
            "{'overall weather status at Alhambra is': 'clear sky', 'and current temperature in C is ': 11.08}\n",
            "\n",
            "\n",
            "What city do you want the weather forecast for?\n",
            "\n",
            "\n",
            "What city would you like to know if it will rain this week?\n",
            "\n",
            "\n"
          ]
        }
      ]
    },
    {
      "cell_type": "markdown",
      "source": [
        "So finally the modified **response_record** dictionary contains our final query-response pairs."
      ],
      "metadata": {
        "id": "OW9v5HG0Le-I"
      }
    },
    {
      "cell_type": "markdown",
      "source": [
        "In the last cell we can see that even if the user don't mention the city for which he wants to know the weather, the chatbot rightly asks the user which city he wants to know the weather of."
      ],
      "metadata": {
        "id": "Fgi3IUGIOil-"
      }
    },
    {
      "cell_type": "markdown",
      "source": [
        "# Evaluation of Model"
      ],
      "metadata": {
        "id": "_yRkhnUD4k3K"
      }
    },
    {
      "cell_type": "markdown",
      "source": [
        "# User Satisfaction Rate\n",
        "\n",
        "Rating given manually by a human user( this case only me) on a scale on 10, on how satisfied he is with the responses."
      ],
      "metadata": {
        "id": "VWa44bjKct45"
      }
    },
    {
      "cell_type": "code",
      "source": [
        "# Run this cell to give manual scores\n",
        "\n",
        "#c=0\n",
        "#score=[]\n",
        "#while c<5:\n",
        "#for i in response_record:\n",
        "#  print('query: ',i)\n",
        " # print('response: ',response_record[i])\n",
        " # ini=int(input('Enter score out of 10: '))\n",
        " # score.append(ini)\n",
        "#print(round(sum(score) / len(score),2))"
      ],
      "metadata": {
        "id": "pK9geqe7o3eE"
      },
      "execution_count": null,
      "outputs": []
    },
    {
      "cell_type": "code",
      "source": [
        "import pandas as pd\n",
        "\n",
        "\n",
        "test_query22=[]\n",
        "with open(r'results.txt', 'r') as fp:\n",
        "    for line in fp:\n",
        "        # remove linebreak from a current name\n",
        "        # linebreak is the last character of each line\n",
        "        if line[-1]=='\\n':\n",
        "          x = line[:-1]\n",
        "        else:\n",
        "          x=line\n",
        "\n",
        "        # add current item to the list\n",
        "        test_query22.append(x)\n",
        "\n",
        "\n",
        "scores1=[]\n",
        "\n",
        "for i in range(0,len(test_query22),3):\n",
        "  #print(test_query22[i].split(':'))\n",
        "  #print(test_query22[i+2].split()[-1])\n",
        "  scores1.append(int(test_query22[i+2].split()[-1]))\n",
        "print('Average score of all query: ',round(sum(scores1)/len(scores1),2))\n",
        "\n",
        "\n",
        "\n",
        "df_intent=pd.DataFrame([intent_record.keys(),intent_record.values()]).T\n",
        "df_intent.columns=['query','intent']\n",
        "df_intent['scores']=scores1\n",
        "df_intent.groupby('intent').agg({'scores':['mean','count']}).round(2)"
      ],
      "metadata": {
        "colab": {
          "base_uri": "https://localhost:8080/",
          "height": 318
        },
        "id": "mFU_M0Cvd1mm",
        "outputId": "105ad28e-6ad6-4c98-96bc-8d531a2eedb7"
      },
      "execution_count": null,
      "outputs": [
        {
          "output_type": "stream",
          "name": "stdout",
          "text": [
            "Average score of all query:  7.27\n"
          ]
        },
        {
          "output_type": "execute_result",
          "data": {
            "text/plain": [
              "                scores      \n",
              "                  mean count\n",
              "intent                      \n",
              "Camera            8.82    17\n",
              "car control       7.45    20\n",
              "navigate          7.17   113\n",
              "schedule          7.23    74\n",
              "system settings   9.00     1\n",
              "weather           6.97    60"
            ],
            "text/html": [
              "\n",
              "  <div id=\"df-f3117738-1e3b-4e1f-b0b7-426ea49e67ab\">\n",
              "    <div class=\"colab-df-container\">\n",
              "      <div>\n",
              "<style scoped>\n",
              "    .dataframe tbody tr th:only-of-type {\n",
              "        vertical-align: middle;\n",
              "    }\n",
              "\n",
              "    .dataframe tbody tr th {\n",
              "        vertical-align: top;\n",
              "    }\n",
              "\n",
              "    .dataframe thead tr th {\n",
              "        text-align: left;\n",
              "    }\n",
              "\n",
              "    .dataframe thead tr:last-of-type th {\n",
              "        text-align: right;\n",
              "    }\n",
              "</style>\n",
              "<table border=\"1\" class=\"dataframe\">\n",
              "  <thead>\n",
              "    <tr>\n",
              "      <th></th>\n",
              "      <th colspan=\"2\" halign=\"left\">scores</th>\n",
              "    </tr>\n",
              "    <tr>\n",
              "      <th></th>\n",
              "      <th>mean</th>\n",
              "      <th>count</th>\n",
              "    </tr>\n",
              "    <tr>\n",
              "      <th>intent</th>\n",
              "      <th></th>\n",
              "      <th></th>\n",
              "    </tr>\n",
              "  </thead>\n",
              "  <tbody>\n",
              "    <tr>\n",
              "      <th>Camera</th>\n",
              "      <td>8.82</td>\n",
              "      <td>17</td>\n",
              "    </tr>\n",
              "    <tr>\n",
              "      <th>car control</th>\n",
              "      <td>7.45</td>\n",
              "      <td>20</td>\n",
              "    </tr>\n",
              "    <tr>\n",
              "      <th>navigate</th>\n",
              "      <td>7.17</td>\n",
              "      <td>113</td>\n",
              "    </tr>\n",
              "    <tr>\n",
              "      <th>schedule</th>\n",
              "      <td>7.23</td>\n",
              "      <td>74</td>\n",
              "    </tr>\n",
              "    <tr>\n",
              "      <th>system settings</th>\n",
              "      <td>9.00</td>\n",
              "      <td>1</td>\n",
              "    </tr>\n",
              "    <tr>\n",
              "      <th>weather</th>\n",
              "      <td>6.97</td>\n",
              "      <td>60</td>\n",
              "    </tr>\n",
              "  </tbody>\n",
              "</table>\n",
              "</div>\n",
              "      <button class=\"colab-df-convert\" onclick=\"convertToInteractive('df-f3117738-1e3b-4e1f-b0b7-426ea49e67ab')\"\n",
              "              title=\"Convert this dataframe to an interactive table.\"\n",
              "              style=\"display:none;\">\n",
              "        \n",
              "  <svg xmlns=\"http://www.w3.org/2000/svg\" height=\"24px\"viewBox=\"0 0 24 24\"\n",
              "       width=\"24px\">\n",
              "    <path d=\"M0 0h24v24H0V0z\" fill=\"none\"/>\n",
              "    <path d=\"M18.56 5.44l.94 2.06.94-2.06 2.06-.94-2.06-.94-.94-2.06-.94 2.06-2.06.94zm-11 1L8.5 8.5l.94-2.06 2.06-.94-2.06-.94L8.5 2.5l-.94 2.06-2.06.94zm10 10l.94 2.06.94-2.06 2.06-.94-2.06-.94-.94-2.06-.94 2.06-2.06.94z\"/><path d=\"M17.41 7.96l-1.37-1.37c-.4-.4-.92-.59-1.43-.59-.52 0-1.04.2-1.43.59L10.3 9.45l-7.72 7.72c-.78.78-.78 2.05 0 2.83L4 21.41c.39.39.9.59 1.41.59.51 0 1.02-.2 1.41-.59l7.78-7.78 2.81-2.81c.8-.78.8-2.07 0-2.86zM5.41 20L4 18.59l7.72-7.72 1.47 1.35L5.41 20z\"/>\n",
              "  </svg>\n",
              "      </button>\n",
              "      \n",
              "  <style>\n",
              "    .colab-df-container {\n",
              "      display:flex;\n",
              "      flex-wrap:wrap;\n",
              "      gap: 12px;\n",
              "    }\n",
              "\n",
              "    .colab-df-convert {\n",
              "      background-color: #E8F0FE;\n",
              "      border: none;\n",
              "      border-radius: 50%;\n",
              "      cursor: pointer;\n",
              "      display: none;\n",
              "      fill: #1967D2;\n",
              "      height: 32px;\n",
              "      padding: 0 0 0 0;\n",
              "      width: 32px;\n",
              "    }\n",
              "\n",
              "    .colab-df-convert:hover {\n",
              "      background-color: #E2EBFA;\n",
              "      box-shadow: 0px 1px 2px rgba(60, 64, 67, 0.3), 0px 1px 3px 1px rgba(60, 64, 67, 0.15);\n",
              "      fill: #174EA6;\n",
              "    }\n",
              "\n",
              "    [theme=dark] .colab-df-convert {\n",
              "      background-color: #3B4455;\n",
              "      fill: #D2E3FC;\n",
              "    }\n",
              "\n",
              "    [theme=dark] .colab-df-convert:hover {\n",
              "      background-color: #434B5C;\n",
              "      box-shadow: 0px 1px 3px 1px rgba(0, 0, 0, 0.15);\n",
              "      filter: drop-shadow(0px 1px 2px rgba(0, 0, 0, 0.3));\n",
              "      fill: #FFFFFF;\n",
              "    }\n",
              "  </style>\n",
              "\n",
              "      <script>\n",
              "        const buttonEl =\n",
              "          document.querySelector('#df-f3117738-1e3b-4e1f-b0b7-426ea49e67ab button.colab-df-convert');\n",
              "        buttonEl.style.display =\n",
              "          google.colab.kernel.accessAllowed ? 'block' : 'none';\n",
              "\n",
              "        async function convertToInteractive(key) {\n",
              "          const element = document.querySelector('#df-f3117738-1e3b-4e1f-b0b7-426ea49e67ab');\n",
              "          const dataTable =\n",
              "            await google.colab.kernel.invokeFunction('convertToInteractive',\n",
              "                                                     [key], {});\n",
              "          if (!dataTable) return;\n",
              "\n",
              "          const docLinkHtml = 'Like what you see? Visit the ' +\n",
              "            '<a target=\"_blank\" href=https://colab.research.google.com/notebooks/data_table.ipynb>data table notebook</a>'\n",
              "            + ' to learn more about interactive tables.';\n",
              "          element.innerHTML = '';\n",
              "          dataTable['output_type'] = 'display_data';\n",
              "          await google.colab.output.renderOutput(dataTable, element);\n",
              "          const docLink = document.createElement('div');\n",
              "          docLink.innerHTML = docLinkHtml;\n",
              "          element.appendChild(docLink);\n",
              "        }\n",
              "      </script>\n",
              "    </div>\n",
              "  </div>\n",
              "  "
            ]
          },
          "metadata": {},
          "execution_count": 9
        }
      ]
    },
    {
      "cell_type": "code",
      "source": [
        "import seaborn as sns\n",
        "sns.boxplot(data=df_intent, x=\"intent\", y=\"scores\")"
      ],
      "metadata": {
        "colab": {
          "base_uri": "https://localhost:8080/",
          "height": 466
        },
        "id": "mOCVxEgIKw0O",
        "outputId": "081611ab-0e40-41de-e1d8-416a111cfcf2"
      },
      "execution_count": null,
      "outputs": [
        {
          "output_type": "execute_result",
          "data": {
            "text/plain": [
              "<Axes: xlabel='intent', ylabel='scores'>"
            ]
          },
          "metadata": {},
          "execution_count": 7
        },
        {
          "output_type": "display_data",
          "data": {
            "text/plain": [
              "<Figure size 640x480 with 1 Axes>"
            ],
            "image/png": "[encoded data removed]"
          },
          "metadata": {}
        }
      ]
    },
    {
      "cell_type": "markdown",
      "source": [
        "Overall satisfaction rate for all the queries is okayish but there is scope for improvement.\n",
        "\n",
        "**Weather** related responses needs to be improved, same for **navigation** & scheduling. **Car control** and **camera** have good user satisfaction rate. There is higher variability in the rating of the responses of **weather, schedule, navigate** queries.\n",
        "\n",
        "\n",
        "Just note there is **imbalance** in the number of queries for each catagory.\n"
      ],
      "metadata": {
        "id": "uf0UdNHye2uA"
      }
    },
    {
      "cell_type": "markdown",
      "source": [
        "# BLEU Score"
      ],
      "metadata": {
        "id": "Eb6m6_Z6e9qt"
      }
    },
    {
      "cell_type": "markdown",
      "source": [
        "Manual evaluation can be **biased** from human to human so **BLEU** score is also tried. It's a score between 0-1, based on how similar/close the generated response is to the origical/correct response."
      ],
      "metadata": {
        "id": "njC3V8G4I493"
      }
    },
    {
      "cell_type": "code",
      "source": [
        "results2=[]\n",
        "with open(r'results2.txt', 'r') as fp:\n",
        "    for line in fp:\n",
        "        #print(len(line))\n",
        "        if len(line)>1:\n",
        "        # remove linebreak from a current name\n",
        "        # linebreak is the last character of each line\n",
        "          x = line[:-1]\n",
        "          #print(x)\n",
        "        #else:\n",
        "          #pass\n",
        "\n",
        "        # add current item to the list\n",
        "          results2.append(x)"
      ],
      "metadata": {
        "id": "7FU_zdXkQ8iS"
      },
      "execution_count": null,
      "outputs": []
    },
    {
      "cell_type": "code",
      "source": [
        "results3={}\n",
        "for i,j in zip(range(1,len(results2),4), range(2,len(results2),4)):\n",
        "  print(results2[i])\n",
        "  print(results2[j])\n",
        "  results2a=results2[i].split('User:')[-1].strip()\n",
        "  results2b=results2[j].split('Reference:')[-1].strip()\n",
        "  results3[results2a]=results2b\n",
        "\n",
        "\n",
        "response_record2={}\n",
        "for i in response_record:\n",
        "      zk4=i.strip()\n",
        "      response_record2[zk4]=response_record[i]"
      ],
      "metadata": {
        "id": "JbIPGORnU_DV"
      },
      "execution_count": null,
      "outputs": []
    },
    {
      "cell_type": "code",
      "source": [
        "from nltk.translate.bleu_score import sentence_bleu\n",
        "def remove_puncs(test_str):\n",
        "    import re\n",
        "    test_str=test_str.lower()\n",
        "    #test_str = test_str.translate\n",
        "    #test_str=str.maketrans('', '', string.punctuation)\n",
        "    test_str = re.sub(r'[^\\w\\s]', '', test_str)\n",
        "    #res = re.sub(r'[!,;.]', '', test_str)\n",
        "    return test_str\n",
        "\n",
        "scores=[]\n",
        "for i in results3:\n",
        "  #print(i)\n",
        "  ##print(i)\n",
        "  #print('---------------------')\n",
        "  if i in response_record2 and type(response_record2[i]) is not dict:\n",
        "     reference=[remove_puncs(results3[i]).split()]\n",
        "  #kk=i.strip()\n",
        "     sen=remove_puncs(response_record2[i]).split()\n",
        "  #print(sentence_bleu(reference, sen, weights=(0.5, 0.5, 0, 0)))\n",
        "     scores.append(sentence_bleu(reference, sen, weights=(0.5, 0.5, 0, 0)))\n",
        "print(round(sum(scores)/len(scores),2))"
      ],
      "metadata": {
        "id": "BPwXfqlr4nKf",
        "colab": {
          "base_uri": "https://localhost:8080/"
        },
        "outputId": "aa8e1ea5-51b7-488e-a86e-ad1487ac67fe"
      },
      "execution_count": null,
      "outputs": [
        {
          "output_type": "stream",
          "name": "stdout",
          "text": [
            "0.27\n"
          ]
        },
        {
          "output_type": "stream",
          "name": "stderr",
          "text": [
            "/usr/local/lib/python3.10/dist-packages/nltk/translate/bleu_score.py:552: UserWarning: \n",
            "The hypothesis contains 0 counts of 2-gram overlaps.\n",
            "Therefore the BLEU score evaluates to 0, independently of\n",
            "how many N-gram overlaps of lower order it contains.\n",
            "Consider using lower n-gram order or use SmoothingFunction()\n",
            "  warnings.warn(_msg)\n",
            "/usr/local/lib/python3.10/dist-packages/nltk/translate/bleu_score.py:552: UserWarning: \n",
            "The hypothesis contains 0 counts of 3-gram overlaps.\n",
            "Therefore the BLEU score evaluates to 0, independently of\n",
            "how many N-gram overlaps of lower order it contains.\n",
            "Consider using lower n-gram order or use SmoothingFunction()\n",
            "  warnings.warn(_msg)\n",
            "/usr/local/lib/python3.10/dist-packages/nltk/translate/bleu_score.py:552: UserWarning: \n",
            "The hypothesis contains 0 counts of 4-gram overlaps.\n",
            "Therefore the BLEU score evaluates to 0, independently of\n",
            "how many N-gram overlaps of lower order it contains.\n",
            "Consider using lower n-gram order or use SmoothingFunction()\n",
            "  warnings.warn(_msg)\n"
          ]
        }
      ]
    },
    {
      "cell_type": "markdown",
      "source": [
        "**BLEU** score also suggest there is scope of improvement."
      ],
      "metadata": {
        "id": "YjVPTw8oyVwh"
      }
    },
    {
      "cell_type": "markdown",
      "source": [
        "# Key Takeways\n",
        "\n",
        "After taking this course and doing this project, the following things I learnt:"
      ],
      "metadata": {
        "id": "zghhE3VAwADQ"
      }
    },
    {
      "cell_type": "markdown",
      "source": [
        "\n",
        "\n",
        "1. Learnt about **various challenges** faced in any nlp task like **coreference resolution** etc.\n",
        "\n",
        "2. Learnt about different methods to perform **data exploration and preprocessing textual data**. Leant the concepts of **embeddings of** text.\n",
        "\n",
        "4. Leant ways to prepare **fine-tuning dataset** for transformer based models.\n",
        "\n",
        "3. Learnt concepts of **LLMs** with hands-on experience, especially in the domain of **conversational agents**.\n",
        "\n",
        "4. Learnt ways to evaluate our LLM models **efficiency** and improve further."
      ],
      "metadata": {
        "id": "WLlIYCqswC4v"
      }
    }
  ]
}