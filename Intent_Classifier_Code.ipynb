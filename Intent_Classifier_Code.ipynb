{
  "nbformat": 4,
  "nbformat_minor": 0,
  "metadata": {
    "colab": {
      "provenance": []
    },
    "kernelspec": {
      "name": "python3",
      "display_name": "Python 3"
    },
    "language_info": {
      "name": "python"
    }
  },
  "cells": [
    {
      "cell_type": "markdown",
      "source": [
        "# Intent Classifier Model"
      ],
      "metadata": {
        "id": "BV3PbKi85tcq"
      }
    },
    {
      "cell_type": "markdown",
      "source": [
        "**Set Up Transformer & Import Required Libraries**"
      ],
      "metadata": {
        "id": "-DpcHLvrxK7i"
      }
    },
    {
      "cell_type": "markdown",
      "source": [
        "We are using **BERT** model"
      ],
      "metadata": {
        "id": "MK-TAhnOxeC-"
      }
    },
    {
      "cell_type": "markdown",
      "source": [
        "Took help from the following [Github page](https://hannibunny.github.io/mlbook/transformer/intent_classification_with_bert.html)"
      ],
      "metadata": {
        "id": "6nMkfLL3xglt"
      }
    },
    {
      "cell_type": "code",
      "execution_count": null,
      "metadata": {
        "id": "0WwmAcbz7I3p"
      },
      "outputs": [],
      "source": [
        "!pip install -q tensorflow-text"
      ]
    },
    {
      "cell_type": "code",
      "source": [
        "#!pip install -U \"tensorflow==2.11.*\"\n",
        "!pip install -q -U \"tensorflow-text==2.11.*\"\n",
        "import tensorflow as tf\n",
        "import tensorflow_text as text\n",
        "import functools\n",
        "print(\"TensorFlow version: \", tf.__version__)"
      ],
      "metadata": {
        "colab": {
          "base_uri": "https://localhost:8080/"
        },
        "id": "dBYhp0SwmKVR",
        "outputId": "45b37365-7589-4f27-fa13-62e17d291ecb"
      },
      "execution_count": null,
      "outputs": [
        {
          "output_type": "stream",
          "name": "stdout",
          "text": [
            "TensorFlow version:  2.11.1\n"
          ]
        }
      ]
    },
    {
      "cell_type": "code",
      "source": [
        "\n",
        "import os\n",
        "import pandas as pd\n",
        "\n",
        "import tensorflow as tf\n",
        "import tensorflow_hub as hub\n",
        "import tensorflow_text as text\n",
        "\n",
        "import warnings\n",
        "warnings.filterwarnings(\"ignore\")"
      ],
      "metadata": {
        "id": "7-o3v0pz7ROi"
      },
      "execution_count": null,
      "outputs": []
    },
    {
      "cell_type": "code",
      "source": [
        "import numpy as np\n",
        "import pandas as pd\n",
        "import json\n",
        "import os\n",
        "from sklearn.metrics import roc_curve\n",
        "from sklearn.metrics import accuracy_score\n",
        "from sklearn.model_selection import train_test_split\n",
        "from tensorflow.keras.utils import to_categorical\n",
        "from tensorflow.keras.models import Sequential, Model\n",
        "from tensorflow.keras.layers import Input, Dense, Embedding, Activation, LSTM, SimpleRNN, Dropout\n",
        "from tensorflow.keras.optimizers import Adam\n",
        "from tensorflow.keras.preprocessing.text import Tokenizer\n",
        "from tensorflow.keras.preprocessing.sequence import pad_sequences\n",
        "import bert\n",
        "from tqdm import tqdm\n",
        "from tensorflow.keras import backend as K\n",
        "import tensorflow as tf\n",
        "import tensorflow_hub as hub\n",
        "import tensorflow_text as text\n",
        "tf.get_logger().setLevel('ERROR')\n",
        "\n",
        "import warnings\n",
        "warnings.filterwarnings(\"ignore\")"
      ],
      "metadata": {
        "id": "2d2yA_kR7S6R"
      },
      "execution_count": null,
      "outputs": []
    },
    {
      "cell_type": "code",
      "source": [
        "!pip install bert-for-tf2"
      ],
      "metadata": {
        "colab": {
          "base_uri": "https://localhost:8080/"
        },
        "id": "ByPOXDP2F47X",
        "outputId": "0b8414fe-4701-4529-cc87-4f7159f38cf6"
      },
      "execution_count": null,
      "outputs": [
        {
          "output_type": "stream",
          "name": "stdout",
          "text": [
            "Looking in indexes: https://pypi.org/simple, https://us-python.pkg.dev/colab-wheels/public/simple/\n",
            "Collecting bert-for-tf2\n",
            "  Downloading bert-for-tf2-0.14.9.tar.gz (41 kB)\n",
            "\u001b[2K     \u001b[90m━━━━━━━━━━━━━━━━━━━━━━━━━━━━━━━━━━━━━━━━\u001b[0m \u001b[32m41.2/41.2 kB\u001b[0m \u001b[31m3.0 MB/s\u001b[0m eta \u001b[36m0:00:00\u001b[0m\n",
            "\u001b[?25h  Preparing metadata (setup.py) ... \u001b[?25l\u001b[?25hdone\n",
            "Collecting py-params>=0.9.6 (from bert-for-tf2)\n",
            "  Downloading py-params-0.10.2.tar.gz (7.4 kB)\n",
            "  Preparing metadata (setup.py) ... \u001b[?25l\u001b[?25hdone\n",
            "Collecting params-flow>=0.8.0 (from bert-for-tf2)\n",
            "  Downloading params-flow-0.8.2.tar.gz (22 kB)\n",
            "  Preparing metadata (setup.py) ... \u001b[?25l\u001b[?25hdone\n",
            "Requirement already satisfied: numpy in /usr/local/lib/python3.10/dist-packages (from params-flow>=0.8.0->bert-for-tf2) (1.22.4)\n",
            "Requirement already satisfied: tqdm in /usr/local/lib/python3.10/dist-packages (from params-flow>=0.8.0->bert-for-tf2) (4.65.0)\n",
            "Building wheels for collected packages: bert-for-tf2, params-flow, py-params\n",
            "  Building wheel for bert-for-tf2 (setup.py) ... \u001b[?25l\u001b[?25hdone\n",
            "  Created wheel for bert-for-tf2: filename=bert_for_tf2-0.14.9-py3-none-any.whl size=30531 sha256=d48ec839f856b837ffe295d518c3068ffbd00b8cdafbdec76e93ba7743bb8395\n",
            "  Stored in directory: /root/.cache/pip/wheels/d8/da/50/126d7b8416d9a0e6bf876935c2219a71e72a6529c25e150c56\n",
            "  Building wheel for params-flow (setup.py) ... \u001b[?25l\u001b[?25hdone\n",
            "  Created wheel for params-flow: filename=params_flow-0.8.2-py3-none-any.whl size=19471 sha256=3a05cf8c1fc96cd04040ea4049ad0cb04fb3f8c9b30849094d000cc07634cd73\n",
            "  Stored in directory: /root/.cache/pip/wheels/97/a8/d0/f7419404174976a2686bb98b5c30df01cc71445415f32db9e6\n",
            "  Building wheel for py-params (setup.py) ... \u001b[?25l\u001b[?25hdone\n",
            "  Created wheel for py-params: filename=py_params-0.10.2-py3-none-any.whl size=7910 sha256=9df1fc03aa3d1a897dfb21cfab9a98ee17849011447e43b8bf085de2fca4267f\n",
            "  Stored in directory: /root/.cache/pip/wheels/69/c8/b3/92666cff9fb312bc3473eaa6b396695b89a7b3e31e90876819\n",
            "Successfully built bert-for-tf2 params-flow py-params\n",
            "Installing collected packages: py-params, params-flow, bert-for-tf2\n",
            "Successfully installed bert-for-tf2-0.14.9 params-flow-0.8.2 py-params-0.10.2\n"
          ]
        }
      ]
    },
    {
      "cell_type": "code",
      "source": [
        "# Loading our intent classifier data that we saved in last notebook\n",
        "traindf = pd.read_csv('train.csv')\n",
        "validdf = pd.read_csv('valid.csv')\n",
        "testdf = pd.read_csv('test.csv')"
      ],
      "metadata": {
        "id": "IwLhmcckBGlX"
      },
      "execution_count": null,
      "outputs": []
    },
    {
      "cell_type": "code",
      "source": [
        "# Dropping missing values\n",
        "traindf.dropna(inplace=True)\n",
        "validdf.dropna(inplace=True)\n",
        "testdf.dropna(inplace=True)"
      ],
      "metadata": {
        "id": "tRpCOwVsCJF3"
      },
      "execution_count": null,
      "outputs": []
    },
    {
      "cell_type": "markdown",
      "source": [
        "**Binarizing/one-hot encoding** class-labels of train, test and validation data to be effectively fed into the model."
      ],
      "metadata": {
        "id": "6dsVVEu6yGE_"
      }
    },
    {
      "cell_type": "code",
      "source": [
        "from sklearn.preprocessing import LabelBinarizer\n",
        "binarizer=LabelBinarizer()\n",
        "trainlabels=binarizer.fit_transform(traindf['intent'])\n",
        "testlabels=binarizer.transform(testdf['intent'])\n",
        "validlabels=binarizer.transform(validdf['intent'])"
      ],
      "metadata": {
        "id": "DT1F4x8fBjr3"
      },
      "execution_count": null,
      "outputs": []
    },
    {
      "cell_type": "markdown",
      "source": [
        "**Loading models from Tensorflow Hub**"
      ],
      "metadata": {
        "id": "t-NsaNOVyWTY"
      }
    },
    {
      "cell_type": "markdown",
      "source": [
        "According to the text there are multiple BERT models available some of them are listed below."
      ],
      "metadata": {
        "id": "oLdg2I6Syaz6"
      }
    },
    {
      "cell_type": "markdown",
      "source": [
        "We will use **small BERT uncased** model with trained weights released by the original BERT authors.\n",
        "\n",
        "Small BERT models are faster to fine-tune as they have fewer parameters. Based on accuracy we might tweak different models and see which one is good for our data."
      ],
      "metadata": {
        "id": "UnVkQWwOy18g"
      }
    },
    {
      "cell_type": "code",
      "source": [
        "bert_model_name = 'small_bert/bert_en_uncased_L-8_H-512_A-8'\n",
        "map_name_to_handle = {\n",
        "    'bert_en_uncased_L-12_H-768_A-12':\n",
        "        'https://tfhub.dev/tensorflow/bert_en_uncased_L-12_H-768_A-12/3',\n",
        "    'bert_en_cased_L-12_H-768_A-12':\n",
        "        'https://tfhub.dev/tensorflow/bert_en_cased_L-12_H-768_A-12/3',\n",
        "    'bert_multi_cased_L-12_H-768_A-12':\n",
        "        'https://tfhub.dev/tensorflow/bert_multi_cased_L-12_H-768_A-12/3',\n",
        "    'small_bert/bert_en_uncased_L-2_H-128_A-2':\n",
        "        'https://tfhub.dev/tensorflow/small_bert/bert_en_uncased_L-2_H-128_A-2/1',\n",
        "    'small_bert/bert_en_uncased_L-2_H-256_A-4':\n",
        "        'https://tfhub.dev/tensorflow/small_bert/bert_en_uncased_L-2_H-256_A-4/1',\n",
        "    'small_bert/bert_en_uncased_L-2_H-512_A-8':\n",
        "        'https://tfhub.dev/tensorflow/small_bert/bert_en_uncased_L-2_H-512_A-8/1',\n",
        "    'small_bert/bert_en_uncased_L-2_H-768_A-12':\n",
        "        'https://tfhub.dev/tensorflow/small_bert/bert_en_uncased_L-2_H-768_A-12/1',\n",
        "    'small_bert/bert_en_uncased_L-4_H-128_A-2':\n",
        "        'https://tfhub.dev/tensorflow/small_bert/bert_en_uncased_L-4_H-128_A-2/1',\n",
        "    'small_bert/bert_en_uncased_L-4_H-256_A-4':\n",
        "        'https://tfhub.dev/tensorflow/small_bert/bert_en_uncased_L-4_H-256_A-4/1',\n",
        "    'small_bert/bert_en_uncased_L-4_H-512_A-8':\n",
        "        'https://tfhub.dev/tensorflow/small_bert/bert_en_uncased_L-4_H-512_A-8/1',\n",
        "    'small_bert/bert_en_uncased_L-4_H-768_A-12':\n",
        "        'https://tfhub.dev/tensorflow/small_bert/bert_en_uncased_L-4_H-768_A-12/1',\n",
        "    'small_bert/bert_en_uncased_L-6_H-128_A-2':\n",
        "        'https://tfhub.dev/tensorflow/small_bert/bert_en_uncased_L-6_H-128_A-2/1',\n",
        "    'small_bert/bert_en_uncased_L-6_H-256_A-4':\n",
        "        'https://tfhub.dev/tensorflow/small_bert/bert_en_uncased_L-6_H-256_A-4/1',\n",
        "    'small_bert/bert_en_uncased_L-6_H-512_A-8':\n",
        "        'https://tfhub.dev/tensorflow/small_bert/bert_en_uncased_L-6_H-512_A-8/1',\n",
        "    'small_bert/bert_en_uncased_L-6_H-768_A-12':\n",
        "        'https://tfhub.dev/tensorflow/small_bert/bert_en_uncased_L-6_H-768_A-12/1',\n",
        "    'small_bert/bert_en_uncased_L-8_H-128_A-2':\n",
        "        'https://tfhub.dev/tensorflow/small_bert/bert_en_uncased_L-8_H-128_A-2/1',\n",
        "    'small_bert/bert_en_uncased_L-8_H-256_A-4':\n",
        "        'https://tfhub.dev/tensorflow/small_bert/bert_en_uncased_L-8_H-256_A-4/1',\n",
        "    'small_bert/bert_en_uncased_L-8_H-512_A-8':\n",
        "        'https://tfhub.dev/tensorflow/small_bert/bert_en_uncased_L-8_H-512_A-8/1',\n",
        "    'small_bert/bert_en_uncased_L-8_H-768_A-12':\n",
        "        'https://tfhub.dev/tensorflow/small_bert/bert_en_uncased_L-8_H-768_A-12/1',\n",
        "    'small_bert/bert_en_uncased_L-10_H-128_A-2':\n",
        "        'https://tfhub.dev/tensorflow/small_bert/bert_en_uncased_L-10_H-128_A-2/1',\n",
        "    'small_bert/bert_en_uncased_L-10_H-256_A-4':\n",
        "        'https://tfhub.dev/tensorflow/small_bert/bert_en_uncased_L-10_H-256_A-4/1',\n",
        "    'small_bert/bert_en_uncased_L-10_H-512_A-8':\n",
        "        'https://tfhub.dev/tensorflow/small_bert/bert_en_uncased_L-10_H-512_A-8/1',\n",
        "    'small_bert/bert_en_uncased_L-10_H-768_A-12':\n",
        "        'https://tfhub.dev/tensorflow/small_bert/bert_en_uncased_L-10_H-768_A-12/1',\n",
        "    'small_bert/bert_en_uncased_L-12_H-128_A-2':\n",
        "        'https://tfhub.dev/tensorflow/small_bert/bert_en_uncased_L-12_H-128_A-2/1',\n",
        "    'small_bert/bert_en_uncased_L-12_H-256_A-4':\n",
        "        'https://tfhub.dev/tensorflow/small_bert/bert_en_uncased_L-12_H-256_A-4/1',\n",
        "    'small_bert/bert_en_uncased_L-12_H-512_A-8':\n",
        "        'https://tfhub.dev/tensorflow/small_bert/bert_en_uncased_L-12_H-512_A-8/1',\n",
        "    'small_bert/bert_en_uncased_L-12_H-768_A-12':\n",
        "        'https://tfhub.dev/tensorflow/small_bert/bert_en_uncased_L-12_H-768_A-12/1',\n",
        "    'albert_en_base':\n",
        "        'https://tfhub.dev/tensorflow/albert_en_base/2',\n",
        "    'electra_small':\n",
        "        'https://tfhub.dev/google/electra_small/2',\n",
        "    'electra_base':\n",
        "        'https://tfhub.dev/google/electra_base/2',\n",
        "    'experts_pubmed':\n",
        "        'https://tfhub.dev/google/experts/bert/pubmed/2',\n",
        "    'experts_wiki_books':\n",
        "        'https://tfhub.dev/google/experts/bert/wiki_books/2',\n",
        "    'talking-heads_base':\n",
        "        'https://tfhub.dev/tensorflow/talkheads_ggelu_bert_en_base/1',\n",
        "}\n",
        "\n",
        "map_model_to_preprocess = {\n",
        "    'bert_en_uncased_L-12_H-768_A-12':\n",
        "        'https://tfhub.dev/tensorflow/bert_en_uncased_preprocess/2',\n",
        "    'bert_en_cased_L-12_H-768_A-12':\n",
        "        'https://tfhub.dev/tensorflow/bert_en_cased_preprocess/2',\n",
        "    'small_bert/bert_en_uncased_L-2_H-128_A-2':\n",
        "        'https://tfhub.dev/tensorflow/bert_en_uncased_preprocess/2',\n",
        "    'small_bert/bert_en_uncased_L-2_H-256_A-4':\n",
        "        'https://tfhub.dev/tensorflow/bert_en_uncased_preprocess/2',\n",
        "    'small_bert/bert_en_uncased_L-2_H-512_A-8':\n",
        "        'https://tfhub.dev/tensorflow/bert_en_uncased_preprocess/2',\n",
        "    'small_bert/bert_en_uncased_L-2_H-768_A-12':\n",
        "        'https://tfhub.dev/tensorflow/bert_en_uncased_preprocess/2',\n",
        "    'small_bert/bert_en_uncased_L-4_H-128_A-2':\n",
        "        'https://tfhub.dev/tensorflow/bert_en_uncased_preprocess/2',\n",
        "    'small_bert/bert_en_uncased_L-4_H-256_A-4':\n",
        "        'https://tfhub.dev/tensorflow/bert_en_uncased_preprocess/2',\n",
        "    'small_bert/bert_en_uncased_L-4_H-512_A-8':\n",
        "        'https://tfhub.dev/tensorflow/bert_en_uncased_preprocess/2',\n",
        "    'small_bert/bert_en_uncased_L-4_H-768_A-12':\n",
        "        'https://tfhub.dev/tensorflow/bert_en_uncased_preprocess/2',\n",
        "    'small_bert/bert_en_uncased_L-6_H-128_A-2':\n",
        "        'https://tfhub.dev/tensorflow/bert_en_uncased_preprocess/2',\n",
        "    'small_bert/bert_en_uncased_L-6_H-256_A-4':\n",
        "        'https://tfhub.dev/tensorflow/bert_en_uncased_preprocess/2',\n",
        "    'small_bert/bert_en_uncased_L-6_H-512_A-8':\n",
        "        'https://tfhub.dev/tensorflow/bert_en_uncased_preprocess/2',\n",
        "    'small_bert/bert_en_uncased_L-6_H-768_A-12':\n",
        "        'https://tfhub.dev/tensorflow/bert_en_uncased_preprocess/2',\n",
        "    'small_bert/bert_en_uncased_L-8_H-128_A-2':\n",
        "        'https://tfhub.dev/tensorflow/bert_en_uncased_preprocess/2',\n",
        "    'small_bert/bert_en_uncased_L-8_H-256_A-4':\n",
        "        'https://tfhub.dev/tensorflow/bert_en_uncased_preprocess/2',\n",
        "    'small_bert/bert_en_uncased_L-8_H-512_A-8':\n",
        "        'https://tfhub.dev/tensorflow/bert_en_uncased_preprocess/2',\n",
        "    'small_bert/bert_en_uncased_L-8_H-768_A-12':\n",
        "        'https://tfhub.dev/tensorflow/bert_en_uncased_preprocess/2',\n",
        "    'small_bert/bert_en_uncased_L-10_H-128_A-2':\n",
        "        'https://tfhub.dev/tensorflow/bert_en_uncased_preprocess/2',\n",
        "    'small_bert/bert_en_uncased_L-10_H-256_A-4':\n",
        "        'https://tfhub.dev/tensorflow/bert_en_uncased_preprocess/2',\n",
        "    'small_bert/bert_en_uncased_L-10_H-512_A-8':\n",
        "        'https://tfhub.dev/tensorflow/bert_en_uncased_preprocess/2',\n",
        "    'small_bert/bert_en_uncased_L-10_H-768_A-12':\n",
        "        'https://tfhub.dev/tensorflow/bert_en_uncased_preprocess/2',\n",
        "    'small_bert/bert_en_uncased_L-12_H-128_A-2':\n",
        "        'https://tfhub.dev/tensorflow/bert_en_uncased_preprocess/2',\n",
        "    'small_bert/bert_en_uncased_L-12_H-256_A-4':\n",
        "        'https://tfhub.dev/tensorflow/bert_en_uncased_preprocess/2',\n",
        "    'small_bert/bert_en_uncased_L-12_H-512_A-8':\n",
        "        'https://tfhub.dev/tensorflow/bert_en_uncased_preprocess/2',\n",
        "    'small_bert/bert_en_uncased_L-12_H-768_A-12':\n",
        "        'https://tfhub.dev/tensorflow/bert_en_uncased_preprocess/2',\n",
        "    'bert_multi_cased_L-12_H-768_A-12':\n",
        "        'https://tfhub.dev/tensorflow/bert_multi_cased_preprocess/2',\n",
        "    'albert_en_base':\n",
        "        'https://tfhub.dev/tensorflow/albert_en_preprocess/2',\n",
        "    'electra_small':\n",
        "        'https://tfhub.dev/tensorflow/bert_en_uncased_preprocess/2',\n",
        "    'electra_base':\n",
        "        'https://tfhub.dev/tensorflow/bert_en_uncased_preprocess/2',\n",
        "    'experts_pubmed':\n",
        "        'https://tfhub.dev/tensorflow/bert_en_uncased_preprocess/2',\n",
        "    'experts_wiki_books':\n",
        "        'https://tfhub.dev/tensorflow/bert_en_uncased_preprocess/2',\n",
        "    'talking-heads_base':\n",
        "        'https://tfhub.dev/tensorflow/bert_en_uncased_preprocess/2',\n",
        "}\n",
        "\n",
        "tfhub_handle_encoder = map_name_to_handle[bert_model_name]\n",
        "tfhub_handle_preprocess = map_model_to_preprocess[bert_model_name]\n",
        "\n",
        "print(f'BERT model selected           : {tfhub_handle_encoder}')\n",
        "print(f'Preprocess model auto-selected: {tfhub_handle_preprocess}')"
      ],
      "metadata": {
        "colab": {
          "base_uri": "https://localhost:8080/"
        },
        "id": "6ol8HlK9Cqma",
        "outputId": "35cad302-4efc-4821-9800-53f90b75789c"
      },
      "execution_count": null,
      "outputs": [
        {
          "output_type": "stream",
          "name": "stdout",
          "text": [
            "BERT model selected           : https://tfhub.dev/tensorflow/small_bert/bert_en_uncased_L-8_H-512_A-8/1\n",
            "Preprocess model auto-selected: https://tfhub.dev/tensorflow/bert_en_uncased_preprocess/2\n"
          ]
        }
      ]
    },
    {
      "cell_type": "markdown",
      "source": [
        "Text input to be tokenized and converted to tensors before feeding into BERT.\n",
        "\n",
        "TFops from the **TF.text** library does that job.\n",
        "\n",
        "The preprocessing model must be the one referenced by the documentation of the **BERT model**, which we got as **BERT model selected** in above output.\n",
        "\n",
        "We will load the preprocessing model into a **hub.KerasLayer** to compose our fine-tuning model"
      ],
      "metadata": {
        "id": "ts9kaFym0YLf"
      }
    },
    {
      "cell_type": "code",
      "source": [
        "bert_preprocess_model = hub.KerasLayer(tfhub_handle_preprocess)"
      ],
      "metadata": {
        "id": "FrAzcUmPCuo6"
      },
      "execution_count": null,
      "outputs": []
    },
    {
      "cell_type": "markdown",
      "source": [
        "**BERT Model**"
      ],
      "metadata": {
        "id": "VoBJzjgV26vI"
      }
    },
    {
      "cell_type": "code",
      "source": [
        "bert_model = hub.KerasLayer(tfhub_handle_encoder)"
      ],
      "metadata": {
        "id": "hrwOmmP5C5CC"
      },
      "execution_count": null,
      "outputs": []
    },
    {
      "cell_type": "code",
      "source": [
        "# Define the model with one dense and one dropout layer\n",
        "\n",
        "def build_classifier_model():\n",
        "  text_input = tf.keras.layers.Input(shape=(), dtype=tf.string, name='text')\n",
        "  preprocessing_layer = hub.KerasLayer(tfhub_handle_preprocess, name='preprocessing')\n",
        "  encoder_inputs = preprocessing_layer(text_input)\n",
        "  encoder = hub.KerasLayer(tfhub_handle_encoder, trainable=True, name='BERT_encoder')\n",
        "  outputs = encoder(encoder_inputs)\n",
        "  net = outputs['pooled_output']\n",
        "  net = tf.keras.layers.Dropout(0.15)(net)\n",
        "  net = tf.keras.layers.Dense(6, activation=None, name='classifier')(net)\n",
        "  return tf.keras.Model(text_input, net)"
      ],
      "metadata": {
        "id": "vJGNu4BPDF4x"
      },
      "execution_count": null,
      "outputs": []
    },
    {
      "cell_type": "code",
      "source": [
        "classifier_model = build_classifier_model()"
      ],
      "metadata": {
        "id": "zH1pS86oDHue"
      },
      "execution_count": null,
      "outputs": []
    },
    {
      "cell_type": "markdown",
      "source": [
        "**Model Architecture**\n",
        "\n",
        "\n",
        "![Slide1.jpg](data:image/jpeg;base64,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)"
      ],
      "metadata": {
        "id": "du-hO6DtUOLu"
      }
    },
    {
      "cell_type": "code",
      "source": [
        "# Model structure\n",
        "\n",
        "classifier_model.summary()"
      ],
      "metadata": {
        "colab": {
          "base_uri": "https://localhost:8080/"
        },
        "id": "TaIfzU7ODJdu",
        "outputId": "8b208b2c-f34e-4ffa-80a8-22e2fcb9a9e5"
      },
      "execution_count": null,
      "outputs": [
        {
          "output_type": "stream",
          "name": "stdout",
          "text": [
            "Model: \"model\"\n",
            "__________________________________________________________________________________________________\n",
            " Layer (type)                   Output Shape         Param #     Connected to                     \n",
            "==================================================================================================\n",
            " text (InputLayer)              [(None,)]            0           []                               \n",
            "                                                                                                  \n",
            " preprocessing (KerasLayer)     {'input_mask': (Non  0           ['text[0][0]']                   \n",
            "                                e, 128),                                                          \n",
            "                                 'input_word_ids':                                                \n",
            "                                (None, 128),                                                      \n",
            "                                 'input_type_ids':                                                \n",
            "                                (None, 128)}                                                      \n",
            "                                                                                                  \n",
            " BERT_encoder (KerasLayer)      {'sequence_output':  41373185    ['preprocessing[0][0]',          \n",
            "                                 (None, 128, 512),                'preprocessing[0][1]',          \n",
            "                                 'pooled_output': (               'preprocessing[0][2]']          \n",
            "                                None, 512),                                                       \n",
            "                                 'default': (None,                                                \n",
            "                                512),                                                             \n",
            "                                 'encoder_outputs':                                               \n",
            "                                 [(None, 128, 512),                                               \n",
            "                                 (None, 128, 512),                                                \n",
            "                                 (None, 128, 512),                                                \n",
            "                                 (None, 128, 512),                                                \n",
            "                                 (None, 128, 512),                                                \n",
            "                                 (None, 128, 512),                                                \n",
            "                                 (None, 128, 512),                                                \n",
            "                                 (None, 128, 512)]}                                               \n",
            "                                                                                                  \n",
            " dropout (Dropout)              (None, 512)          0           ['BERT_encoder[0][9]']           \n",
            "                                                                                                  \n",
            " classifier (Dense)             (None, 6)            3078        ['dropout[0][0]']                \n",
            "                                                                                                  \n",
            "==================================================================================================\n",
            "Total params: 41,376,263\n",
            "Trainable params: 41,376,262\n",
            "Non-trainable params: 1\n",
            "__________________________________________________________________________________________________\n"
          ]
        }
      ]
    },
    {
      "cell_type": "markdown",
      "source": [
        "After model is finalized, we finalize our **hyperparameters** like optimizers, epochs and **loss function**."
      ],
      "metadata": {
        "id": "wyw-OUZewsSt"
      }
    },
    {
      "cell_type": "code",
      "source": [
        "# we use CategoricalCrossentropy\n",
        "\n",
        "loss = tf.keras.losses.CategoricalCrossentropy(from_logits=True)\n",
        "metrics = tf.metrics.CategoricalAccuracy()"
      ],
      "metadata": {
        "id": "vqNxJmXMDPyt"
      },
      "execution_count": null,
      "outputs": []
    },
    {
      "cell_type": "code",
      "source": [
        "epochs=2\n",
        "optimizer=tf.keras.optimizers.Adam(1e-4)\n",
        "classifier_model.compile(optimizer=optimizer,\n",
        "                         loss=loss,\n",
        "                         metrics=metrics)"
      ],
      "metadata": {
        "id": "dYEtoInPDTA-"
      },
      "execution_count": null,
      "outputs": []
    },
    {
      "cell_type": "code",
      "source": [
        "#(trainfeatures.shape,trainlabels.shape,validfeatures.shape,validlabels.shape)"
      ],
      "metadata": {
        "id": "BoMQnedFDfW4"
      },
      "execution_count": null,
      "outputs": []
    },
    {
      "cell_type": "code",
      "source": [
        "# Training\n",
        "#print(f'Training model with {tfhub_handle_encoder}')\n",
        "#history = classifier_model.fit(x=trainfeatures,y=trainlabels,\n",
        "history = classifier_model.fit(x=traindf['text'].values,y=trainlabels,\n",
        "                               validation_data=(validdf['text'].values,validlabels),\n",
        "                               batch_size=32,\n",
        "                               epochs=epochs)"
      ],
      "metadata": {
        "colab": {
          "base_uri": "https://localhost:8080/"
        },
        "id": "nM_GnfShDWWO",
        "outputId": "d4e7d996-d4ce-4e39-fd4c-36735ca52cf6"
      },
      "execution_count": null,
      "outputs": [
        {
          "output_type": "stream",
          "name": "stdout",
          "text": [
            "Epoch 1/2\n",
            "187/187 [==============================] - 3732s 20s/step - loss: 0.4352 - categorical_accuracy: 0.8098 - val_loss: 0.3150 - val_categorical_accuracy: 0.8308\n",
            "Epoch 2/2\n",
            "187/187 [==============================] - 3510s 19s/step - loss: 0.3318 - categorical_accuracy: 0.8446 - val_loss: 0.3415 - val_categorical_accuracy: 0.8451\n"
          ]
        }
      ]
    },
    {
      "cell_type": "code",
      "source": [
        "# save the model for later use\n",
        "classifier_model.save('my_model')"
      ],
      "metadata": {
        "colab": {
          "base_uri": "https://localhost:8080/"
        },
        "id": "mYv48CHP0WIO",
        "outputId": "2b2bebbd-8004-4433-ce3b-8f74507d72e1"
      },
      "execution_count": null,
      "outputs": [
        {
          "output_type": "stream",
          "name": "stderr",
          "text": [
            "WARNING:absl:Found untraced functions such as _update_step_xla, restored_function_body, restored_function_body, restored_function_body, restored_function_body while saving (showing 5 of 245). These functions will not be directly callable after loading.\n"
          ]
        }
      ]
    },
    {
      "cell_type": "code",
      "source": [
        "loss, accuracy = classifier_model.evaluate(testdf['text'],testlabels)\n",
        "\n",
        "print(f'Loss: {loss}')\n",
        "print(f'Accuracy: {accuracy}')"
      ],
      "metadata": {
        "colab": {
          "base_uri": "https://localhost:8080/"
        },
        "id": "aLrI55M7EmwD",
        "outputId": "9c6081ea-981d-44bc-e8f7-47b091d816e7"
      },
      "execution_count": null,
      "outputs": [
        {
          "output_type": "stream",
          "name": "stdout",
          "text": [
            "23/23 [==============================] - 122s 5s/step - loss: 0.3354 - categorical_accuracy: 0.8587\n",
            "Loss: 0.3354099690914154\n",
            "Accuracy: 0.8586956262588501\n"
          ]
        }
      ]
    },
    {
      "cell_type": "markdown",
      "source": [
        "Accuracy on test dataset is **86%** which is not bad. We can try to improve more by running it through more number of epochs or by proper hyperparameter tuning."
      ],
      "metadata": {
        "id": "LZQvd4gp49gF"
      }
    },
    {
      "cell_type": "markdown",
      "source": [
        "Now lets give some proper random sentences and see if it could perform the intent classifcation well."
      ],
      "metadata": {
        "id": "XbFexgqv5TWr"
      }
    },
    {
      "cell_type": "code",
      "source": [
        "def print_my_examples(inputs, results):\n",
        "  result_for_printing = \\\n",
        "    [f'input: {inputs[i]:<30} : estimated intent: {results[i]}'\n",
        "                         for i in range(len(inputs))]\n",
        "  print(*result_for_printing, sep='\\n')\n",
        "  print()\n",
        "\n",
        "\n",
        "examples = [\n",
        "    'What is current weather now?',\n",
        "    'Please open front door',\n",
        "    'Why it is rainy now?']\n",
        "\n",
        "results = tf.nn.softmax(classifier_model(tf.constant(examples)))"
      ],
      "metadata": {
        "id": "qJmjVXkyEswT"
      },
      "execution_count": null,
      "outputs": []
    },
    {
      "cell_type": "code",
      "source": [
        "results"
      ],
      "metadata": {
        "colab": {
          "base_uri": "https://localhost:8080/"
        },
        "id": "U-1cH8moEuuC",
        "outputId": "504aa112-7843-4ff8-dfbf-b9fd04a9e8ca"
      },
      "execution_count": null,
      "outputs": [
        {
          "output_type": "execute_result",
          "data": {
            "text/plain": [
              "<tf.Tensor: shape=(3, 6), dtype=float32, numpy=\n",
              "array([[9.75371586e-05, 3.73507006e-04, 6.68583089e-04, 3.94110772e-04,\n",
              "        8.04918382e-05, 9.98385787e-01],\n",
              "       [2.07661782e-04, 9.98716354e-01, 3.03182343e-04, 3.47727764e-05,\n",
              "        7.18776137e-04, 1.93081523e-05],\n",
              "       [1.18877986e-04, 5.59184467e-04, 1.41071505e-03, 2.69569969e-03,\n",
              "        6.59291109e-05, 9.95149672e-01]], dtype=float32)>"
            ]
          },
          "metadata": {},
          "execution_count": 27
        }
      ]
    },
    {
      "cell_type": "code",
      "source": [
        "intents=binarizer.inverse_transform(results.numpy())"
      ],
      "metadata": {
        "id": "_KaBCRCEUDGt"
      },
      "execution_count": null,
      "outputs": []
    },
    {
      "cell_type": "code",
      "source": [
        "print_my_examples(examples, intents)"
      ],
      "metadata": {
        "colab": {
          "base_uri": "https://localhost:8080/"
        },
        "id": "FKzpt52tUFaU",
        "outputId": "06a2f380-7f27-4a35-aa79-cb6d7183c8ba"
      },
      "execution_count": null,
      "outputs": [
        {
          "output_type": "stream",
          "name": "stdout",
          "text": [
            "input: What is current weather now?   : estimated intent: weather\n",
            "input: Please open front door         : estimated intent: car control\n",
            "input: Why it is rainy now?           : estimated intent: weather\n",
            "\n"
          ]
        }
      ]
    },
    {
      "cell_type": "markdown",
      "source": [
        "Well as we can see except for the 2nd sentence (car control would be correct answer), **it has predicted other intents correctly !!**"
      ],
      "metadata": {
        "id": "x6oCqwZk5c9M"
      }
    },
    {
      "cell_type": "code",
      "source": [
        "test_query=[]\n",
        "test_response=[]\n",
        "with open(r'test_query.txt', 'r') as fp:\n",
        "    for line in fp:\n",
        "        # remove linebreak from a current name\n",
        "        # linebreak is the last character of each line\n",
        "        x = line[:-1]\n",
        "\n",
        "        # add current item to the list\n",
        "        test_query.append(x)"
      ],
      "metadata": {
        "id": "mPYTbKIYzDLt"
      },
      "execution_count": null,
      "outputs": []
    },
    {
      "cell_type": "markdown",
      "source": [
        "We will **predict the intents for each query of our test data** and store it."
      ],
      "metadata": {
        "id": "l8ZqAFV40mq5"
      }
    },
    {
      "cell_type": "code",
      "source": [
        "intent_record={}\n",
        "def print_my_examples(inputs, results):\n",
        "  result_for_printing = \\\n",
        "    [f'input: {inputs[i]:<30} : estimated intent: {results[i]}'\n",
        "                         for i in range(len(inputs))]\n",
        "\n",
        "\n",
        "  print(*result_for_printing, sep='\\n')\n",
        "  print()\n",
        "\n",
        "\n",
        "\n",
        "results = tf.nn.softmax(classifier_model(tf.constant(test_query)))\n",
        "intents=binarizer.inverse_transform(results.numpy())\n",
        "for i in range(len(test_query)):\n",
        "  intent_record[test_query[i]]=intents[i]\n",
        "#print_my_examples(test_query, intents)"
      ],
      "metadata": {
        "id": "ST4weL8Vi23K"
      },
      "execution_count": null,
      "outputs": []
    },
    {
      "cell_type": "code",
      "source": [
        "#intent_record\n",
        "import pickle\n",
        "with open('intent_record.pkl', 'wb') as fp:\n",
        "    pickle.dump(intent_record, fp)\n",
        "    print('dictionary saved successfully to file')"
      ],
      "metadata": {
        "colab": {
          "base_uri": "https://localhost:8080/"
        },
        "id": "gKqAjiA-wA52",
        "outputId": "7acebeaf-7739-4b06-93a0-2bc57997e7f8"
      },
      "execution_count": null,
      "outputs": [
        {
          "output_type": "stream",
          "name": "stdout",
          "text": [
            "dictionary saved successfully to file\n"
          ]
        }
      ]
    },
    {
      "cell_type": "markdown",
      "source": [
        "# Work Left For Last Mandate & Conclusion"
      ],
      "metadata": {
        "id": "EqLo2wCa5pDa"
      }
    },
    {
      "cell_type": "markdown",
      "source": [
        "Now that we have our t**ransformer based response generation model** ready and **intent classification model** ready; we have completed majority of our project. For the rest of the days of last mandate we can try to **improve our models** as much as possible expecially our response generation model.\n",
        "\n",
        "\n",
        "Also one last piece of code left i.e, if the intent is weather then we might not consider the response generated but get live data from online. That small piece of code I will complete in next mandate."
      ],
      "metadata": {
        "id": "90Ex6xOT5r54"
      }
    },
    {
      "cell_type": "markdown",
      "source": [
        "# Post Mandate 3 Additions"
      ],
      "metadata": {
        "id": "1jzZoDR0L3ff"
      }
    },
    {
      "cell_type": "markdown",
      "source": [
        "COlab Link: [Colab Notebook 3](https://colab.research.google.com/drive/1eNU2pOp8I_AdfBDt7gLtTFtTHGwPnhR-?usp=sharing)"
      ],
      "metadata": {
        "id": "2SfEbdZPL99b"
      }
    }
  ]
}